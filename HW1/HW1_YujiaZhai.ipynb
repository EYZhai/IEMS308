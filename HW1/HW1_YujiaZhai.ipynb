{
 "cells": [
  {
   "cell_type": "code",
   "execution_count": 1,
   "metadata": {},
   "outputs": [],
   "source": [
    "import pandas as pd\n",
    "import matplotlib.pyplot as plt\n",
    "from sklearn.cluster import KMeans\n",
    "import numpy as np"
   ]
  },
  {
   "cell_type": "code",
   "execution_count": 2,
   "metadata": {
    "scrolled": true
   },
   "outputs": [
    {
     "name": "stderr",
     "output_type": "stream",
     "text": [
      "/Users/JessZhai/anaconda3/lib/python3.6/site-packages/IPython/core/interactiveshell.py:2728: DtypeWarning: Columns (10) have mixed types. Specify dtype option on import or set low_memory=False.\n",
      "  interactivity=interactivity, compiler=compiler, result=result)\n"
     ]
    }
   ],
   "source": [
    "df=pd.read_csv('Medicare_Provider_Util_Payment_PUF_CY2016.txt', sep='\\t')\n",
    "df = df.iloc[1:] # remove licencse line"
   ]
  },
  {
   "cell_type": "code",
   "execution_count": 3,
   "metadata": {},
   "outputs": [
    {
     "data": {
      "text/html": [
       "<div>\n",
       "<style scoped>\n",
       "    .dataframe tbody tr th:only-of-type {\n",
       "        vertical-align: middle;\n",
       "    }\n",
       "\n",
       "    .dataframe tbody tr th {\n",
       "        vertical-align: top;\n",
       "    }\n",
       "\n",
       "    .dataframe thead th {\n",
       "        text-align: right;\n",
       "    }\n",
       "</style>\n",
       "<table border=\"1\" class=\"dataframe\">\n",
       "  <thead>\n",
       "    <tr style=\"text-align: right;\">\n",
       "      <th></th>\n",
       "      <th>NPPES_PROVIDER_GENDER</th>\n",
       "      <th>NPPES_PROVIDER_CITY</th>\n",
       "      <th>NPPES_PROVIDER_STATE</th>\n",
       "      <th>NPPES_PROVIDER_COUNTRY</th>\n",
       "      <th>MEDICARE_PARTICIPATION_INDICATOR</th>\n",
       "      <th>HCPCS_DESCRIPTION</th>\n",
       "      <th>LINE_SRVC_CNT</th>\n",
       "      <th>AVERAGE_MEDICARE_ALLOWED_AMT</th>\n",
       "      <th>AVERAGE_SUBMITTED_CHRG_AMT</th>\n",
       "      <th>AVERAGE_MEDICARE_PAYMENT_AMT</th>\n",
       "    </tr>\n",
       "  </thead>\n",
       "  <tbody>\n",
       "    <tr>\n",
       "      <th>1</th>\n",
       "      <td>M</td>\n",
       "      <td>CUMBERLAND</td>\n",
       "      <td>MD</td>\n",
       "      <td>US</td>\n",
       "      <td>Y</td>\n",
       "      <td>Hospital observation care discharge</td>\n",
       "      <td>57.0</td>\n",
       "      <td>72.743158</td>\n",
       "      <td>325.157895</td>\n",
       "      <td>54.474386</td>\n",
       "    </tr>\n",
       "    <tr>\n",
       "      <th>2</th>\n",
       "      <td>M</td>\n",
       "      <td>CUMBERLAND</td>\n",
       "      <td>MD</td>\n",
       "      <td>US</td>\n",
       "      <td>Y</td>\n",
       "      <td>Hospital observation care typically 50 minutes</td>\n",
       "      <td>38.0</td>\n",
       "      <td>135.010000</td>\n",
       "      <td>614.000000</td>\n",
       "      <td>105.850000</td>\n",
       "    </tr>\n",
       "    <tr>\n",
       "      <th>3</th>\n",
       "      <td>M</td>\n",
       "      <td>CUMBERLAND</td>\n",
       "      <td>MD</td>\n",
       "      <td>US</td>\n",
       "      <td>Y</td>\n",
       "      <td>Hospital observation care typically 70 minutes...</td>\n",
       "      <td>23.0</td>\n",
       "      <td>189.239565</td>\n",
       "      <td>769.347826</td>\n",
       "      <td>146.116522</td>\n",
       "    </tr>\n",
       "    <tr>\n",
       "      <th>4</th>\n",
       "      <td>M</td>\n",
       "      <td>CUMBERLAND</td>\n",
       "      <td>MD</td>\n",
       "      <td>US</td>\n",
       "      <td>Y</td>\n",
       "      <td>Initial hospital inpatient care, typically 30 ...</td>\n",
       "      <td>20.0</td>\n",
       "      <td>100.750000</td>\n",
       "      <td>460.000000</td>\n",
       "      <td>78.990000</td>\n",
       "    </tr>\n",
       "    <tr>\n",
       "      <th>5</th>\n",
       "      <td>M</td>\n",
       "      <td>CUMBERLAND</td>\n",
       "      <td>MD</td>\n",
       "      <td>US</td>\n",
       "      <td>Y</td>\n",
       "      <td>Initial hospital inpatient care, typically 50 ...</td>\n",
       "      <td>96.0</td>\n",
       "      <td>136.250000</td>\n",
       "      <td>625.000000</td>\n",
       "      <td>105.477604</td>\n",
       "    </tr>\n",
       "  </tbody>\n",
       "</table>\n",
       "</div>"
      ],
      "text/plain": [
       "  NPPES_PROVIDER_GENDER NPPES_PROVIDER_CITY NPPES_PROVIDER_STATE  \\\n",
       "1                     M          CUMBERLAND                   MD   \n",
       "2                     M          CUMBERLAND                   MD   \n",
       "3                     M          CUMBERLAND                   MD   \n",
       "4                     M          CUMBERLAND                   MD   \n",
       "5                     M          CUMBERLAND                   MD   \n",
       "\n",
       "  NPPES_PROVIDER_COUNTRY MEDICARE_PARTICIPATION_INDICATOR  \\\n",
       "1                     US                                Y   \n",
       "2                     US                                Y   \n",
       "3                     US                                Y   \n",
       "4                     US                                Y   \n",
       "5                     US                                Y   \n",
       "\n",
       "                                   HCPCS_DESCRIPTION  LINE_SRVC_CNT  \\\n",
       "1                Hospital observation care discharge           57.0   \n",
       "2     Hospital observation care typically 50 minutes           38.0   \n",
       "3  Hospital observation care typically 70 minutes...           23.0   \n",
       "4  Initial hospital inpatient care, typically 30 ...           20.0   \n",
       "5  Initial hospital inpatient care, typically 50 ...           96.0   \n",
       "\n",
       "   AVERAGE_MEDICARE_ALLOWED_AMT  AVERAGE_SUBMITTED_CHRG_AMT  \\\n",
       "1                     72.743158                  325.157895   \n",
       "2                    135.010000                  614.000000   \n",
       "3                    189.239565                  769.347826   \n",
       "4                    100.750000                  460.000000   \n",
       "5                    136.250000                  625.000000   \n",
       "\n",
       "   AVERAGE_MEDICARE_PAYMENT_AMT  \n",
       "1                     54.474386  \n",
       "2                    105.850000  \n",
       "3                    146.116522  \n",
       "4                     78.990000  \n",
       "5                    105.477604  "
      ]
     },
     "execution_count": 3,
     "metadata": {},
     "output_type": "execute_result"
    }
   ],
   "source": [
    "# dataframe after process v2\n",
    "df_v2 = df.iloc[:,[5,9,11,12,14,17,19,22,23,24]] # only get required columns\n",
    "df_v2.head()"
   ]
  },
  {
   "cell_type": "code",
   "execution_count": 4,
   "metadata": {},
   "outputs": [
    {
     "data": {
      "text/plain": [
       "<matplotlib.axes._subplots.AxesSubplot at 0x1a41353cc0>"
      ]
     },
     "execution_count": 4,
     "metadata": {},
     "output_type": "execute_result"
    },
    {
     "data": {
      "image/png": "[encoded data removed]",
      "text/plain": [
       "<matplotlib.figure.Figure at 0x1aa02ccef0>"
      ]
     },
     "metadata": {},
     "output_type": "display_data"
    }
   ],
   "source": [
    "# create hist by state\n",
    "df_v2.loc[:,'NPPES_PROVIDER_STATE'].value_counts().plot(kind='bar',figsize=(15,5),title=\"State occurance in data\")"
   ]
  },
  {
   "cell_type": "code",
   "execution_count": 5,
   "metadata": {},
   "outputs": [],
   "source": [
    "df_v2=df_v2.iloc[:,[1,6,7,8,9]] # we will only do analysis on cities and medicare numbers\n",
    "df_v2[\"TOTAL_MEDICARE_PAY\"] = df_v2[\"AVERAGE_MEDICARE_ALLOWED_AMT\"] * df_v2[\"LINE_SRVC_CNT\"]\n",
    "df_v2[\"TOTAL_SUBMITTED_CHARGE\"] = df_v2[\"AVERAGE_SUBMITTED_CHRG_AMT\"] * df_v2[\"LINE_SRVC_CNT\"]"
   ]
  },
  {
   "cell_type": "code",
   "execution_count": 6,
   "metadata": {},
   "outputs": [],
   "source": [
    "# Group by Cities, do SUM(),get total value for each city \n",
    "df_v2=df_v2.groupby(['NPPES_PROVIDER_CITY']).sum()"
   ]
  },
  {
   "cell_type": "code",
   "execution_count": 7,
   "metadata": {},
   "outputs": [],
   "source": [
    "# average submitted charge amount for each city\n",
    "df_v2['AVERAGE_SUBMITTED'] = df_v2['TOTAL_SUBMITTED_CHARGE'] / df_v2['LINE_SRVC_CNT']"
   ]
  },
  {
   "cell_type": "code",
   "execution_count": 8,
   "metadata": {},
   "outputs": [
    {
     "data": {
      "text/plain": [
       "count    12867.000000\n",
       "mean       140.908393\n",
       "std        289.737090\n",
       "min          1.012140\n",
       "25%         63.053184\n",
       "50%         99.627230\n",
       "75%        149.828140\n",
       "max      25322.528872\n",
       "Name: AVERAGE_SUBMITTED, dtype: float64"
      ]
     },
     "execution_count": 8,
     "metadata": {},
     "output_type": "execute_result"
    }
   ],
   "source": [
    "df_v2[\"AVERAGE_SUBMITTED\"].describe()"
   ]
  },
  {
   "cell_type": "code",
   "execution_count": 9,
   "metadata": {},
   "outputs": [
    {
     "data": {
      "text/plain": [
       "(array([2071., 4392., 4763.,  581.,  281.,  153.]),\n",
       " array([  0,  50, 100, 200, 250, 300, 350]),\n",
       " <a list of 6 Patch objects>)"
      ]
     },
     "execution_count": 9,
     "metadata": {},
     "output_type": "execute_result"
    },
    {
     "data": {
      "image/png": "[encoded data removed]",
      "text/plain": [
       "<matplotlib.figure.Figure at 0x1a14d7dd30>"
      ]
     },
     "metadata": {},
     "output_type": "display_data"
    }
   ],
   "source": [
    "# get the histogram for average submitted. \n",
    "plt.hist(df_v2[\"AVERAGE_SUBMITTED\"], bins=[0,50,100,200,250,300,350])"
   ]
  },
  {
   "cell_type": "code",
   "execution_count": 10,
   "metadata": {},
   "outputs": [],
   "source": [
    "# average medicare allowed by cities\n",
    "df_v2['AVERAGE_MEDICARE_ALLOWED'] = df_v2['TOTAL_MEDICARE_PAY'] / df_v2['LINE_SRVC_CNT']"
   ]
  },
  {
   "cell_type": "code",
   "execution_count": 11,
   "metadata": {},
   "outputs": [
    {
     "data": {
      "text/plain": [
       "count    12867.000000\n",
       "mean        54.237545\n",
       "std         51.077371\n",
       "min          0.999663\n",
       "25%         34.077879\n",
       "50%         48.212574\n",
       "75%         65.223226\n",
       "max       3248.504513\n",
       "Name: AVERAGE_MEDICARE_ALLOWED, dtype: float64"
      ]
     },
     "execution_count": 11,
     "metadata": {},
     "output_type": "execute_result"
    }
   ],
   "source": [
    "# describe the data, find distribution\n",
    "df_v2['AVERAGE_MEDICARE_ALLOWED'].describe()"
   ]
  },
  {
   "cell_type": "code",
   "execution_count": 12,
   "metadata": {},
   "outputs": [
    {
     "data": {
      "text/plain": [
       "(array([ 669., 3954., 4193., 2362.,  943.,  584.,  105.]),\n",
       " array([  0,  20,  40,  60,  80, 100, 150, 200]),\n",
       " <a list of 7 Patch objects>)"
      ]
     },
     "execution_count": 12,
     "metadata": {},
     "output_type": "execute_result"
    },
    {
     "data": {
      "image/png": "[encoded data removed]",
      "text/plain": [
       "<matplotlib.figure.Figure at 0x1a14d817b8>"
      ]
     },
     "metadata": {},
     "output_type": "display_data"
    }
   ],
   "source": [
    "# plot histogram, check the result\n",
    "plt.hist(df_v2[\"AVERAGE_MEDICARE_ALLOWED\"], bins=[0,20,40,60,80,100,150,200])"
   ]
  },
  {
   "cell_type": "markdown",
   "metadata": {},
   "source": [
    "Since the data is left-skewed, we can do some cleaning on those data based on removing outliers in the dataframe."
   ]
  },
  {
   "cell_type": "code",
   "execution_count": 13,
   "metadata": {},
   "outputs": [],
   "source": [
    "# did some cleaning\n",
    "df_v3 = df_v2.loc[(df_v2['AVERAGE_SUBMITTED'] <= 350) & (df_v2['AVERAGE_MEDICARE_ALLOWED'] <= 200)]"
   ]
  },
  {
   "cell_type": "code",
   "execution_count": 14,
   "metadata": {},
   "outputs": [
    {
     "data": {
      "text/plain": [
       "count    1.223700e+04\n",
       "mean     1.936218e+05\n",
       "std      8.778424e+05\n",
       "min      1.100000e+01\n",
       "25%      1.398000e+03\n",
       "50%      7.918800e+03\n",
       "75%      5.428400e+04\n",
       "max      2.126502e+07\n",
       "Name: LINE_SRVC_CNT, dtype: float64"
      ]
     },
     "execution_count": 14,
     "metadata": {},
     "output_type": "execute_result"
    }
   ],
   "source": [
    "df_v3['LINE_SRVC_CNT'].describe()"
   ]
  },
  {
   "cell_type": "code",
   "execution_count": 15,
   "metadata": {},
   "outputs": [
    {
     "data": {
      "text/plain": [
       "(array([2552., 1085.,  666.,  521.,  400.,  352.,  281.,  279.,  201.,\n",
       "         167.,  185.,  154.,  135.,  109.,  109.,  108.,  100.,   92.,\n",
       "          87.]),\n",
       " array([    0,  1000,  2000,  3000,  4000,  5000,  6000,  7000,  8000,\n",
       "         9000, 10000, 11000, 12000, 13000, 14000, 15000, 16000, 17000,\n",
       "        18000, 19000]),\n",
       " <a list of 19 Patch objects>)"
      ]
     },
     "execution_count": 15,
     "metadata": {},
     "output_type": "execute_result"
    },
    {
     "data": {
      "image/png": "[encoded data removed]",
      "text/plain": [
       "<matplotlib.figure.Figure at 0x1a15535978>"
      ]
     },
     "metadata": {},
     "output_type": "display_data"
    }
   ],
   "source": [
    "# line service count by cities\n",
    "plt.hist(df_v3[\"LINE_SRVC_CNT\"], bins=range(0,20000,1000))"
   ]
  },
  {
   "cell_type": "code",
   "execution_count": 16,
   "metadata": {},
   "outputs": [
    {
     "name": "stderr",
     "output_type": "stream",
     "text": [
      "/Users/JessZhai/anaconda3/lib/python3.6/site-packages/ipykernel_launcher.py:1: SettingWithCopyWarning: \n",
      "A value is trying to be set on a copy of a slice from a DataFrame.\n",
      "Try using .loc[row_indexer,col_indexer] = value instead\n",
      "\n",
      "See the caveats in the documentation: http://pandas.pydata.org/pandas-docs/stable/indexing.html#indexing-view-versus-copy\n",
      "  \"\"\"Entry point for launching an IPython kernel.\n"
     ]
    }
   ],
   "source": [
    "df_v3[\"MEDICARE_COVERAGE\"] = df_v3[\"AVERAGE_MEDICARE_ALLOWED\"]/df_v3[\"AVERAGE_SUBMITTED\"]"
   ]
  },
  {
   "cell_type": "code",
   "execution_count": 17,
   "metadata": {},
   "outputs": [
    {
     "data": {
      "text/plain": [
       "count    12237.000000\n",
       "mean         0.521436\n",
       "std          0.182479\n",
       "min          0.064809\n",
       "25%          0.388575\n",
       "50%          0.490595\n",
       "75%          0.625027\n",
       "max          1.000000\n",
       "Name: MEDICARE_COVERAGE, dtype: float64"
      ]
     },
     "execution_count": 17,
     "metadata": {},
     "output_type": "execute_result"
    }
   ],
   "source": [
    "df_v3[\"MEDICARE_COVERAGE\"].describe()"
   ]
  },
  {
   "cell_type": "code",
   "execution_count": 18,
   "metadata": {},
   "outputs": [
    {
     "data": {
      "text/plain": [
       "(array([  48.,  351., 1440., 2801., 2562., 2005., 1285.,  691.,  452.,\n",
       "         602.]),\n",
       " array([0.06480881, 0.15832793, 0.25184705, 0.34536617, 0.43888529,\n",
       "        0.53240441, 0.62592353, 0.71944264, 0.81296176, 0.90648088,\n",
       "        1.        ]),\n",
       " <a list of 10 Patch objects>)"
      ]
     },
     "execution_count": 18,
     "metadata": {},
     "output_type": "execute_result"
    },
    {
     "data": {
      "image/png": "[encoded data removed]",
      "text/plain": [
       "<matplotlib.figure.Figure at 0x1a180d8748>"
      ]
     },
     "metadata": {},
     "output_type": "display_data"
    }
   ],
   "source": [
    "# mediare coverage histogram\n",
    "plt.hist(df_v3[\"MEDICARE_COVERAGE\"], bins=10)"
   ]
  },
  {
   "cell_type": "code",
   "execution_count": 19,
   "metadata": {},
   "outputs": [
    {
     "data": {
      "text/plain": [
       "<matplotlib.axes._subplots.AxesSubplot at 0x1a1819a860>"
      ]
     },
     "execution_count": 19,
     "metadata": {},
     "output_type": "execute_result"
    },
    {
     "data": {
      "image/png": "[encoded data removed]",
      "text/plain": [
       "<matplotlib.figure.Figure at 0x1a18109ef0>"
      ]
     },
     "metadata": {},
     "output_type": "display_data"
    }
   ],
   "source": [
    "df_v3.plot.scatter(x='MEDICARE_COVERAGE',y='LINE_SRVC_CNT')"
   ]
  },
  {
   "cell_type": "code",
   "execution_count": 22,
   "metadata": {},
   "outputs": [],
   "source": [
    "# calculate wss values by selecting several possible cluster counts. \n",
    "X=df_v3[['MEDICARE_COVERAGE','LINE_SRVC_CNT']].values\n",
    "data = []\n",
    "for i in range(2,20):\n",
    "    kmeans = KMeans(n_clusters=i, random_state=0).fit(X)\n",
    "    data.append(kmeans.inertia_)"
   ]
  },
  {
   "cell_type": "code",
   "execution_count": 23,
   "metadata": {},
   "outputs": [
    {
     "data": {
      "image/png": "[encoded data removed]",
      "text/plain": [
       "<matplotlib.figure.Figure at 0x1a196bc438>"
      ]
     },
     "metadata": {},
     "output_type": "display_data"
    }
   ],
   "source": [
    "fig = plt.figure()\n",
    "ax = fig.gca()\n",
    "ax.set_xticks(np.arange(0,20,1))\n",
    "plt.plot(data,'ro')\n",
    "plt.grid()\n",
    "plt.show()"
   ]
  },
  {
   "cell_type": "markdown",
   "metadata": {},
   "source": [
    "So we can tell that 3 is the optimum cluster number to choose."
   ]
  },
  {
   "cell_type": "code",
   "execution_count": 24,
   "metadata": {},
   "outputs": [
    {
     "data": {
      "image/png": "[encoded data removed]",
      "text/plain": [
       "<matplotlib.figure.Figure at 0x1a196a8908>"
      ]
     },
     "metadata": {},
     "output_type": "display_data"
    }
   ],
   "source": [
    "kmeans = KMeans(n_clusters=3, random_state=0).fit(X)\n",
    "y_kmeans = kmeans.predict(X)\n",
    "plt.scatter(X[:, 0], X[:, 1], c=y_kmeans, s=50, cmap='viridis')\n",
    "centers = kmeans.cluster_centers_\n",
    "plt.scatter(centers[:, 0], centers[:, 1], c='black', s=200, alpha=0.5); # K-Cluster"
   ]
  },
  {
   "cell_type": "code",
   "execution_count": null,
   "metadata": {},
   "outputs": [],
   "source": []
  },
  {
   "cell_type": "code",
   "execution_count": null,
   "metadata": {},
   "outputs": [],
   "source": []
  },
  {
   "cell_type": "code",
   "execution_count": null,
   "metadata": {},
   "outputs": [],
   "source": []
  }
 ],
 "metadata": {
  "kernelspec": {
   "display_name": "Python 3",
   "language": "python",
   "name": "python3"
  },
  "language_info": {
   "codemirror_mode": {
    "name": "ipython",
    "version": 3
   },
   "file_extension": ".py",
   "mimetype": "text/x-python",
   "name": "python",
   "nbconvert_exporter": "python",
   "pygments_lexer": "ipython3",
   "version": "3.6.4"
  }
 },
 "nbformat": 4,
 "nbformat_minor": 2
}
